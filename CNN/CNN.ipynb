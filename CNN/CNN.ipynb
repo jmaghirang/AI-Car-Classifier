{
  "nbformat": 4,
  "nbformat_minor": 0,
  "metadata": {
    "colab": {
      "provenance": [],
      "machine_shape": "hm",
      "gpuType": "A100"
    },
    "kernelspec": {
      "name": "python3",
      "display_name": "Python 3"
    },
    "language_info": {
      "name": "python"
    },
    "accelerator": "GPU"
  },
  "cells": [
    {
      "cell_type": "code",
      "source": [
        "import pandas as pd\n",
        "import numpy as np\n",
        "import os\n",
        "import cv2\n",
        "import tensorflow as tf\n",
        "from tensorflow.keras.models import Sequential\n",
        "from tensorflow.keras.layers import Conv2D, MaxPooling2D, Flatten, Dense, Dropout\n",
        "from tensorflow.keras.preprocessing.image import ImageDataGenerator\n",
        "from sklearn.preprocessing import LabelEncoder\n",
        "from sklearn.model_selection import train_test_split"
      ],
      "metadata": {
        "id": "CQ_oQTnUZE9Q"
      },
      "execution_count": 1,
      "outputs": []
    },
    {
      "cell_type": "code",
      "source": [
        "from sklearn.metrics import precision_score, recall_score, f1_score, classification_report\n",
        "import matplotlib.pyplot as plt"
      ],
      "metadata": {
        "id": "bEw37meORL72"
      },
      "execution_count": 2,
      "outputs": []
    },
    {
      "cell_type": "code",
      "source": [
        "from tensorflow.keras.callbacks import Callback"
      ],
      "metadata": {
        "id": "3r9IlpoBrzcN"
      },
      "execution_count": 3,
      "outputs": []
    },
    {
      "cell_type": "code",
      "source": [
        "# Set paths for CSV and image directories\n",
        "train_csv = '/content/drive/MyDrive/cars_train.csv'\n",
        "test_csv = '/content/drive/MyDrive/cars_test.csv'\n",
        "train_img_dir = '/content/drive/MyDrive/cars_train_images - Copy'\n",
        "test_img_dir = '/content/drive/MyDrive/cars_test_images - Copy'\n",
        "#train_img_dir = '/content/drive/MyDrive/cars_train_images'\n",
        "#test_img_dir = '/content/drive/MyDrive/cars_test_images'"
      ],
      "metadata": {
        "id": "gENrg1GwZHL4"
      },
      "execution_count": 4,
      "outputs": []
    },
    {
      "cell_type": "code",
      "source": [
        "# Load CSV data\n",
        "train_df = pd.read_csv(train_csv)\n",
        "test_df = pd.read_csv(test_csv)"
      ],
      "metadata": {
        "id": "zv_WaRigZKYi"
      },
      "execution_count": 5,
      "outputs": []
    },
    {
      "cell_type": "code",
      "source": [
        "def resize_and_pad_image(img, target_size):\n",
        "    old_size = img.shape[:2]  # Get current image size (height, width)\n",
        "    ratio = min(float(target_size[0]) / old_size[0], float(target_size[1]) / old_size[1])  # Maintain aspect ratio\n",
        "    new_size = tuple([int(x * ratio) for x in old_size])  # New size after maintaining aspect ratio\n",
        "\n",
        "    # Resize the image while keeping the aspect ratio\n",
        "    resized_img = cv2.resize(img, (new_size[1], new_size[0]))\n",
        "\n",
        "    # Create a new image of the target size (224, 224) and pad the resized image to fit it\n",
        "    padded_img = np.zeros((target_size[0], target_size[1], 3), dtype=np.uint8)  # Create a black canvas\n",
        "\n",
        "    # Compute padding\n",
        "    pad_h = (target_size[0] - new_size[0]) // 2\n",
        "    pad_w = (target_size[1] - new_size[1]) // 2\n",
        "\n",
        "    # Place the resized image onto the padded canvas\n",
        "    padded_img[pad_h:pad_h + new_size[0], pad_w:pad_w + new_size[1], :] = resized_img\n",
        "\n",
        "    return padded_img\n"
      ],
      "metadata": {
        "id": "o8xT0mL31UnQ"
      },
      "execution_count": 6,
      "outputs": []
    },
    {
      "cell_type": "code",
      "source": [
        "def load_images(df, img_dir, target_size=(224, 224)):\n",
        "    images = []\n",
        "    labels = []\n",
        "    for index, row in df.iterrows():\n",
        "        img_path = os.path.join(img_dir, row['image'])\n",
        "        img = cv2.imread(img_path)\n",
        "        if img is not None:\n",
        "            # Crop the image based on the bounding box (x1, y1, x2, y2)\n",
        "            x1, y1, x2, y2 = int(row['x1']), int(row['y1']), int(row['x2']), int(row['y2'])\n",
        "            img = img[y1:y2, x1:x2]  # Crop the image\n",
        "            img = resize_and_pad_image(img, target_size)  # Resize and pad the image\n",
        "            images.append(img)\n",
        "            labels.append(row['class'])  # Use 'class' for classification\n",
        "    return np.array(images), np.array(labels)"
      ],
      "metadata": {
        "id": "MZ5OfzkvZNMF"
      },
      "execution_count": 7,
      "outputs": []
    },
    {
      "cell_type": "code",
      "source": [
        "test_df['image'] = test_df['image'].str.strip(\"'\") #csv file for test have ''"
      ],
      "metadata": {
        "id": "X4z1L5CfdmIq"
      },
      "execution_count": 8,
      "outputs": []
    },
    {
      "cell_type": "code",
      "source": [
        "# Load training and testing images\n",
        "X_train, y_train = load_images(train_df, train_img_dir)\n",
        "X_test, y_test = load_images(test_df, test_img_dir)"
      ],
      "metadata": {
        "id": "SUsUoOOqZR8C"
      },
      "execution_count": 9,
      "outputs": []
    },
    {
      "cell_type": "code",
      "source": [
        "# Normalize images\n",
        "X_train = X_train.astype('float32') / 255.0\n",
        "X_test = X_test.astype('float32') / 255.0\n",
        "\n",
        "# Encode labels\n",
        "label_encoder = LabelEncoder()\n",
        "y_train = label_encoder.fit_transform(y_train)\n",
        "y_test = label_encoder.transform(y_test)\n",
        "\n",
        "# Train/validation split\n",
        "X_train, X_val, y_train, y_val = train_test_split(X_train, y_train, test_size=0.2, random_state=42)"
      ],
      "metadata": {
        "id": "uZHbPUCNZUU6"
      },
      "execution_count": 10,
      "outputs": []
    },
    {
      "cell_type": "code",
      "source": [
        "# CNN model\n",
        "def create_cnn_model(input_shape, num_classes):\n",
        "    model = Sequential([\n",
        "        Conv2D(32, (3, 3), activation='relu', input_shape=input_shape),\n",
        "        MaxPooling2D(pool_size=(2, 2)),\n",
        "        Conv2D(64, (3, 3), activation='relu'),\n",
        "        MaxPooling2D(pool_size=(2, 2)),\n",
        "        Conv2D(128, (3, 3), activation='relu'),\n",
        "        MaxPooling2D(pool_size=(2, 2)),\n",
        "        Flatten(),\n",
        "        Dense(128, activation='relu'),\n",
        "        Dropout(0.5),\n",
        "        Dense(num_classes, activation='softmax')\n",
        "    ])\n",
        "    model.compile(optimizer='adam', loss='sparse_categorical_crossentropy', metrics=['accuracy'])\n",
        "    return model"
      ],
      "metadata": {
        "id": "RywTO6-9Zb4A"
      },
      "execution_count": 11,
      "outputs": []
    },
    {
      "cell_type": "code",
      "source": [
        "# Get input shape and number of classes\n",
        "input_shape = X_train.shape[1:]  # (224, 224, 3)\n",
        "num_classes = len(np.unique(y_train))\n",
        "\n",
        "# Create model\n",
        "model = create_cnn_model(input_shape, num_classes)\n",
        "\n",
        "# Train the model\n",
        "#history = model.fit(X_train, y_train, epochs=10, batch_size=32, validation_data=(X_val, y_val))"
      ],
      "metadata": {
        "id": "5BEJd7dbZgMM",
        "colab": {
          "base_uri": "https://localhost:8080/"
        },
        "outputId": "4690e13a-3040-4a6d-98df-6c94e3c28512"
      },
      "execution_count": 12,
      "outputs": [
        {
          "output_type": "stream",
          "name": "stderr",
          "text": [
            "/usr/local/lib/python3.10/dist-packages/keras/src/layers/convolutional/base_conv.py:107: UserWarning: Do not pass an `input_shape`/`input_dim` argument to a layer. When using Sequential models, prefer using an `Input(shape)` object as the first layer in the model instead.\n",
            "  super().__init__(activity_regularizer=activity_regularizer, **kwargs)\n"
          ]
        }
      ]
    },
    {
      "cell_type": "code",
      "source": [
        "# VALIDATION - Callback to track precision, recall, F1 during training\n",
        "class MetricsCallback(tf.keras.callbacks.Callback):\n",
        "    def __init__(self, validation_data):\n",
        "        super(MetricsCallback, self).__init__()\n",
        "        self.validation_data = validation_data\n",
        "\n",
        "    def on_epoch_end(self, epoch, logs=None):\n",
        "        # Predict on validation set\n",
        "        X_val, y_val = self.validation_data\n",
        "        y_val_pred = self.model.predict(X_val)\n",
        "        y_val_pred_classes = np.argmax(y_val_pred, axis=1)\n",
        "\n",
        "        # Calculate precision, recall, and F1 score\n",
        "        precision = precision_score(y_val, y_val_pred_classes, average='weighted')\n",
        "        recall = recall_score(y_val, y_val_pred_classes, average='weighted')\n",
        "        f1 = f1_score(y_val, y_val_pred_classes, average='weighted')\n",
        "\n",
        "        # Log metrics\n",
        "        print(f' — val_precision: {precision:.4f} — val_recall: {recall:.4f} — val_f1: {f1:.4f}')\n",
        "\n",
        "# Pass validation data when initializing MetricsCallback\n",
        "metrics_callback = MetricsCallback(validation_data=(X_val, y_val))"
      ],
      "metadata": {
        "id": "5PDj3bfoQCC7"
      },
      "execution_count": 13,
      "outputs": []
    },
    {
      "cell_type": "code",
      "source": [
        "# train model with validation metrics\n",
        "history = model.fit(\n",
        "    X_train, y_train,\n",
        "    epochs=10,\n",
        "    batch_size=32,\n",
        "    validation_data=(X_val, y_val),\n",
        "    callbacks=[metrics_callback])"
      ],
      "metadata": {
        "id": "H3LPyYfdQF_9",
        "colab": {
          "base_uri": "https://localhost:8080/"
        },
        "outputId": "9a6546bd-b654-4e1f-e1e0-39184f860d85"
      },
      "execution_count": 14,
      "outputs": [
        {
          "output_type": "stream",
          "name": "stdout",
          "text": [
            "Epoch 1/10\n",
            "\u001b[1m25/25\u001b[0m \u001b[32m━━━━━━━━━━━━━━━━━━━━\u001b[0m\u001b[37m\u001b[0m \u001b[1m1s\u001b[0m 6ms/step\n",
            " — val_precision: 0.0000 — val_recall: 0.0037 — val_f1: 0.0000\n",
            "\u001b[1m100/100\u001b[0m \u001b[32m━━━━━━━━━━━━━━━━━━━━\u001b[0m\u001b[37m\u001b[0m \u001b[1m14s\u001b[0m 57ms/step - accuracy: 0.0040 - loss: 5.3911 - val_accuracy: 0.0037 - val_loss: 5.2792\n",
            "Epoch 2/10\n",
            "\u001b[1m  9/100\u001b[0m \u001b[32m━\u001b[0m\u001b[37m━━━━━━━━━━━━━━━━━━━\u001b[0m \u001b[1m1s\u001b[0m 13ms/step - accuracy: 0.0043 - loss: 5.2761"
          ]
        },
        {
          "output_type": "stream",
          "name": "stderr",
          "text": [
            "/usr/local/lib/python3.10/dist-packages/sklearn/metrics/_classification.py:1531: UndefinedMetricWarning: Precision is ill-defined and being set to 0.0 in labels with no predicted samples. Use `zero_division` parameter to control this behavior.\n",
            "  _warn_prf(average, modifier, f\"{metric.capitalize()} is\", len(result))\n"
          ]
        },
        {
          "output_type": "stream",
          "name": "stdout",
          "text": [
            "\u001b[1m25/25\u001b[0m \u001b[32m━━━━━━━━━━━━━━━━━━━━\u001b[0m\u001b[37m\u001b[0m \u001b[1m0s\u001b[0m 6ms/step\n",
            " — val_precision: 0.0002 — val_recall: 0.0050 — val_f1: 0.0004\n",
            "\u001b[1m100/100\u001b[0m \u001b[32m━━━━━━━━━━━━━━━━━━━━\u001b[0m\u001b[37m\u001b[0m \u001b[1m2s\u001b[0m 21ms/step - accuracy: 0.0054 - loss: 5.2745 - val_accuracy: 0.0050 - val_loss: 5.2729\n",
            "Epoch 3/10\n",
            "\u001b[1m 10/100\u001b[0m \u001b[32m━━\u001b[0m\u001b[37m━━━━━━━━━━━━━━━━━━\u001b[0m \u001b[1m1s\u001b[0m 12ms/step - accuracy: 0.0087 - loss: 5.2558"
          ]
        },
        {
          "output_type": "stream",
          "name": "stderr",
          "text": [
            "/usr/local/lib/python3.10/dist-packages/sklearn/metrics/_classification.py:1531: UndefinedMetricWarning: Precision is ill-defined and being set to 0.0 in labels with no predicted samples. Use `zero_division` parameter to control this behavior.\n",
            "  _warn_prf(average, modifier, f\"{metric.capitalize()} is\", len(result))\n",
            "/usr/local/lib/python3.10/dist-packages/sklearn/metrics/_classification.py:1531: UndefinedMetricWarning: Recall is ill-defined and being set to 0.0 in labels with no true samples. Use `zero_division` parameter to control this behavior.\n",
            "  _warn_prf(average, modifier, f\"{metric.capitalize()} is\", len(result))\n"
          ]
        },
        {
          "output_type": "stream",
          "name": "stdout",
          "text": [
            "\u001b[1m25/25\u001b[0m \u001b[32m━━━━━━━━━━━━━━━━━━━━\u001b[0m\u001b[37m\u001b[0m \u001b[1m0s\u001b[0m 6ms/step\n",
            " — val_precision: 0.0008 — val_recall: 0.0075 — val_f1: 0.0013\n",
            "\u001b[1m100/100\u001b[0m \u001b[32m━━━━━━━━━━━━━━━━━━━━\u001b[0m\u001b[37m\u001b[0m \u001b[1m2s\u001b[0m 21ms/step - accuracy: 0.0085 - loss: 5.2360 - val_accuracy: 0.0075 - val_loss: 5.2597\n",
            "Epoch 4/10\n",
            "\u001b[1m 11/100\u001b[0m \u001b[32m━━\u001b[0m\u001b[37m━━━━━━━━━━━━━━━━━━\u001b[0m \u001b[1m1s\u001b[0m 12ms/step - accuracy: 0.0180 - loss: 5.1390"
          ]
        },
        {
          "output_type": "stream",
          "name": "stderr",
          "text": [
            "/usr/local/lib/python3.10/dist-packages/sklearn/metrics/_classification.py:1531: UndefinedMetricWarning: Precision is ill-defined and being set to 0.0 in labels with no predicted samples. Use `zero_division` parameter to control this behavior.\n",
            "  _warn_prf(average, modifier, f\"{metric.capitalize()} is\", len(result))\n",
            "/usr/local/lib/python3.10/dist-packages/sklearn/metrics/_classification.py:1531: UndefinedMetricWarning: Recall is ill-defined and being set to 0.0 in labels with no true samples. Use `zero_division` parameter to control this behavior.\n",
            "  _warn_prf(average, modifier, f\"{metric.capitalize()} is\", len(result))\n"
          ]
        },
        {
          "output_type": "stream",
          "name": "stdout",
          "text": [
            "\u001b[1m25/25\u001b[0m \u001b[32m━━━━━━━━━━━━━━━━━━━━\u001b[0m\u001b[37m\u001b[0m \u001b[1m0s\u001b[0m 6ms/step\n",
            " — val_precision: 0.0026 — val_recall: 0.0063 — val_f1: 0.0034\n",
            "\u001b[1m100/100\u001b[0m \u001b[32m━━━━━━━━━━━━━━━━━━━━\u001b[0m\u001b[37m\u001b[0m \u001b[1m2s\u001b[0m 21ms/step - accuracy: 0.0137 - loss: 5.1464 - val_accuracy: 0.0063 - val_loss: 5.2918\n",
            "Epoch 5/10\n",
            "\u001b[1m 11/100\u001b[0m \u001b[32m━━\u001b[0m\u001b[37m━━━━━━━━━━━━━━━━━━\u001b[0m \u001b[1m1s\u001b[0m 12ms/step - accuracy: 0.0314 - loss: 5.0393"
          ]
        },
        {
          "output_type": "stream",
          "name": "stderr",
          "text": [
            "/usr/local/lib/python3.10/dist-packages/sklearn/metrics/_classification.py:1531: UndefinedMetricWarning: Precision is ill-defined and being set to 0.0 in labels with no predicted samples. Use `zero_division` parameter to control this behavior.\n",
            "  _warn_prf(average, modifier, f\"{metric.capitalize()} is\", len(result))\n",
            "/usr/local/lib/python3.10/dist-packages/sklearn/metrics/_classification.py:1531: UndefinedMetricWarning: Recall is ill-defined and being set to 0.0 in labels with no true samples. Use `zero_division` parameter to control this behavior.\n",
            "  _warn_prf(average, modifier, f\"{metric.capitalize()} is\", len(result))\n"
          ]
        },
        {
          "output_type": "stream",
          "name": "stdout",
          "text": [
            "\u001b[1m25/25\u001b[0m \u001b[32m━━━━━━━━━━━━━━━━━━━━\u001b[0m\u001b[37m\u001b[0m \u001b[1m0s\u001b[0m 6ms/step\n",
            " — val_precision: 0.0087 — val_recall: 0.0125 — val_f1: 0.0081\n",
            "\u001b[1m100/100\u001b[0m \u001b[32m━━━━━━━━━━━━━━━━━━━━\u001b[0m\u001b[37m\u001b[0m \u001b[1m2s\u001b[0m 21ms/step - accuracy: 0.0315 - loss: 4.9613 - val_accuracy: 0.0125 - val_loss: 5.2862\n",
            "Epoch 6/10\n",
            "\u001b[1m 11/100\u001b[0m \u001b[32m━━\u001b[0m\u001b[37m━━━━━━━━━━━━━━━━━━\u001b[0m \u001b[1m1s\u001b[0m 12ms/step - accuracy: 0.0289 - loss: 4.7204"
          ]
        },
        {
          "output_type": "stream",
          "name": "stderr",
          "text": [
            "/usr/local/lib/python3.10/dist-packages/sklearn/metrics/_classification.py:1531: UndefinedMetricWarning: Precision is ill-defined and being set to 0.0 in labels with no predicted samples. Use `zero_division` parameter to control this behavior.\n",
            "  _warn_prf(average, modifier, f\"{metric.capitalize()} is\", len(result))\n",
            "/usr/local/lib/python3.10/dist-packages/sklearn/metrics/_classification.py:1531: UndefinedMetricWarning: Recall is ill-defined and being set to 0.0 in labels with no true samples. Use `zero_division` parameter to control this behavior.\n",
            "  _warn_prf(average, modifier, f\"{metric.capitalize()} is\", len(result))\n"
          ]
        },
        {
          "output_type": "stream",
          "name": "stdout",
          "text": [
            "\u001b[1m25/25\u001b[0m \u001b[32m━━━━━━━━━━━━━━━━━━━━\u001b[0m\u001b[37m\u001b[0m \u001b[1m0s\u001b[0m 6ms/step\n",
            " — val_precision: 0.0115 — val_recall: 0.0163 — val_f1: 0.0108\n",
            "\u001b[1m100/100\u001b[0m \u001b[32m━━━━━━━━━━━━━━━━━━━━\u001b[0m\u001b[37m\u001b[0m \u001b[1m2s\u001b[0m 21ms/step - accuracy: 0.0596 - loss: 4.6176 - val_accuracy: 0.0162 - val_loss: 5.3762\n",
            "Epoch 7/10\n",
            "\u001b[1m 11/100\u001b[0m \u001b[32m━━\u001b[0m\u001b[37m━━━━━━━━━━━━━━━━━━\u001b[0m \u001b[1m1s\u001b[0m 12ms/step - accuracy: 0.1429 - loss: 4.1804"
          ]
        },
        {
          "output_type": "stream",
          "name": "stderr",
          "text": [
            "/usr/local/lib/python3.10/dist-packages/sklearn/metrics/_classification.py:1531: UndefinedMetricWarning: Precision is ill-defined and being set to 0.0 in labels with no predicted samples. Use `zero_division` parameter to control this behavior.\n",
            "  _warn_prf(average, modifier, f\"{metric.capitalize()} is\", len(result))\n",
            "/usr/local/lib/python3.10/dist-packages/sklearn/metrics/_classification.py:1531: UndefinedMetricWarning: Recall is ill-defined and being set to 0.0 in labels with no true samples. Use `zero_division` parameter to control this behavior.\n",
            "  _warn_prf(average, modifier, f\"{metric.capitalize()} is\", len(result))\n"
          ]
        },
        {
          "output_type": "stream",
          "name": "stdout",
          "text": [
            "\u001b[1m25/25\u001b[0m \u001b[32m━━━━━━━━━━━━━━━━━━━━\u001b[0m\u001b[37m\u001b[0m \u001b[1m0s\u001b[0m 6ms/step\n",
            " — val_precision: 0.0203 — val_recall: 0.0187 — val_f1: 0.0165\n",
            "\u001b[1m100/100\u001b[0m \u001b[32m━━━━━━━━━━━━━━━━━━━━\u001b[0m\u001b[37m\u001b[0m \u001b[1m2s\u001b[0m 21ms/step - accuracy: 0.1295 - loss: 4.1401 - val_accuracy: 0.0188 - val_loss: 5.4283\n",
            "Epoch 8/10\n",
            "\u001b[1m 11/100\u001b[0m \u001b[32m━━\u001b[0m\u001b[37m━━━━━━━━━━━━━━━━━━\u001b[0m \u001b[1m1s\u001b[0m 12ms/step - accuracy: 0.1577 - loss: 3.7822"
          ]
        },
        {
          "output_type": "stream",
          "name": "stderr",
          "text": [
            "/usr/local/lib/python3.10/dist-packages/sklearn/metrics/_classification.py:1531: UndefinedMetricWarning: Precision is ill-defined and being set to 0.0 in labels with no predicted samples. Use `zero_division` parameter to control this behavior.\n",
            "  _warn_prf(average, modifier, f\"{metric.capitalize()} is\", len(result))\n",
            "/usr/local/lib/python3.10/dist-packages/sklearn/metrics/_classification.py:1531: UndefinedMetricWarning: Recall is ill-defined and being set to 0.0 in labels with no true samples. Use `zero_division` parameter to control this behavior.\n",
            "  _warn_prf(average, modifier, f\"{metric.capitalize()} is\", len(result))\n"
          ]
        },
        {
          "output_type": "stream",
          "name": "stdout",
          "text": [
            "\u001b[1m25/25\u001b[0m \u001b[32m━━━━━━━━━━━━━━━━━━━━\u001b[0m\u001b[37m\u001b[0m \u001b[1m0s\u001b[0m 6ms/step\n",
            " — val_precision: 0.0063 — val_recall: 0.0112 — val_f1: 0.0071\n",
            "\u001b[1m100/100\u001b[0m \u001b[32m━━━━━━━━━━━━━━━━━━━━\u001b[0m\u001b[37m\u001b[0m \u001b[1m2s\u001b[0m 21ms/step - accuracy: 0.1708 - loss: 3.7160 - val_accuracy: 0.0113 - val_loss: 5.5486\n",
            "Epoch 9/10\n",
            "\u001b[1m 10/100\u001b[0m \u001b[32m━━\u001b[0m\u001b[37m━━━━━━━━━━━━━━━━━━\u001b[0m \u001b[1m1s\u001b[0m 12ms/step - accuracy: 0.2530 - loss: 3.3332"
          ]
        },
        {
          "output_type": "stream",
          "name": "stderr",
          "text": [
            "/usr/local/lib/python3.10/dist-packages/sklearn/metrics/_classification.py:1531: UndefinedMetricWarning: Precision is ill-defined and being set to 0.0 in labels with no predicted samples. Use `zero_division` parameter to control this behavior.\n",
            "  _warn_prf(average, modifier, f\"{metric.capitalize()} is\", len(result))\n",
            "/usr/local/lib/python3.10/dist-packages/sklearn/metrics/_classification.py:1531: UndefinedMetricWarning: Recall is ill-defined and being set to 0.0 in labels with no true samples. Use `zero_division` parameter to control this behavior.\n",
            "  _warn_prf(average, modifier, f\"{metric.capitalize()} is\", len(result))\n"
          ]
        },
        {
          "output_type": "stream",
          "name": "stdout",
          "text": [
            "\u001b[1m25/25\u001b[0m \u001b[32m━━━━━━━━━━━━━━━━━━━━\u001b[0m\u001b[37m\u001b[0m \u001b[1m0s\u001b[0m 6ms/step\n",
            " — val_precision: 0.0157 — val_recall: 0.0213 — val_f1: 0.0160\n",
            "\u001b[1m100/100\u001b[0m \u001b[32m━━━━━━━━━━━━━━━━━━━━\u001b[0m\u001b[37m\u001b[0m \u001b[1m2s\u001b[0m 21ms/step - accuracy: 0.2396 - loss: 3.2840 - val_accuracy: 0.0213 - val_loss: 6.0339\n",
            "Epoch 10/10\n",
            "\u001b[1m 11/100\u001b[0m \u001b[32m━━\u001b[0m\u001b[37m━━━━━━━━━━━━━━━━━━\u001b[0m \u001b[1m1s\u001b[0m 12ms/step - accuracy: 0.2899 - loss: 2.9166"
          ]
        },
        {
          "output_type": "stream",
          "name": "stderr",
          "text": [
            "/usr/local/lib/python3.10/dist-packages/sklearn/metrics/_classification.py:1531: UndefinedMetricWarning: Precision is ill-defined and being set to 0.0 in labels with no predicted samples. Use `zero_division` parameter to control this behavior.\n",
            "  _warn_prf(average, modifier, f\"{metric.capitalize()} is\", len(result))\n",
            "/usr/local/lib/python3.10/dist-packages/sklearn/metrics/_classification.py:1531: UndefinedMetricWarning: Recall is ill-defined and being set to 0.0 in labels with no true samples. Use `zero_division` parameter to control this behavior.\n",
            "  _warn_prf(average, modifier, f\"{metric.capitalize()} is\", len(result))\n"
          ]
        },
        {
          "output_type": "stream",
          "name": "stdout",
          "text": [
            "\u001b[1m25/25\u001b[0m \u001b[32m━━━━━━━━━━━━━━━━━━━━\u001b[0m\u001b[37m\u001b[0m \u001b[1m0s\u001b[0m 6ms/step\n",
            " — val_precision: 0.0171 — val_recall: 0.0175 — val_f1: 0.0155\n",
            "\u001b[1m100/100\u001b[0m \u001b[32m━━━━━━━━━━━━━━━━━━━━\u001b[0m\u001b[37m\u001b[0m \u001b[1m2s\u001b[0m 21ms/step - accuracy: 0.2784 - loss: 2.9627 - val_accuracy: 0.0175 - val_loss: 6.0518\n"
          ]
        },
        {
          "output_type": "stream",
          "name": "stderr",
          "text": [
            "/usr/local/lib/python3.10/dist-packages/sklearn/metrics/_classification.py:1531: UndefinedMetricWarning: Precision is ill-defined and being set to 0.0 in labels with no predicted samples. Use `zero_division` parameter to control this behavior.\n",
            "  _warn_prf(average, modifier, f\"{metric.capitalize()} is\", len(result))\n",
            "/usr/local/lib/python3.10/dist-packages/sklearn/metrics/_classification.py:1531: UndefinedMetricWarning: Recall is ill-defined and being set to 0.0 in labels with no true samples. Use `zero_division` parameter to control this behavior.\n",
            "  _warn_prf(average, modifier, f\"{metric.capitalize()} is\", len(result))\n"
          ]
        }
      ]
    },
    {
      "cell_type": "code",
      "source": [
        "# TRAINING METRICS\n",
        "\n",
        "# Calculate precision, recall, and F1-score for the training set\n",
        "y_train_pred = model.predict(X_train)\n",
        "y_train_pred_classes = np.argmax(y_train_pred, axis=1)"
      ],
      "metadata": {
        "id": "C6bMXClwcDuJ",
        "colab": {
          "base_uri": "https://localhost:8080/"
        },
        "outputId": "387531ac-8a12-401c-c629-6ff35bd4ec37"
      },
      "execution_count": 15,
      "outputs": [
        {
          "output_type": "stream",
          "name": "stdout",
          "text": [
            "\u001b[1m100/100\u001b[0m \u001b[32m━━━━━━━━━━━━━━━━━━━━\u001b[0m\u001b[37m\u001b[0m \u001b[1m1s\u001b[0m 6ms/step\n"
          ]
        }
      ]
    },
    {
      "cell_type": "code",
      "source": [
        "\n",
        "\n",
        "train_precision = precision_score(y_train, y_train_pred_classes, average='weighted')\n",
        "train_recall = recall_score(y_train, y_train_pred_classes, average='weighted')\n",
        "train_f1 = f1_score(y_train, y_train_pred_classes, average='weighted')\n",
        "\n",
        "print(f'Train Precision: {train_precision:.4f}')\n",
        "print(f'Train Recall: {train_recall:.4f}')\n",
        "print(f'Train F1-Score: {train_f1:.4f}')"
      ],
      "metadata": {
        "id": "1HtuXdidSJua",
        "colab": {
          "base_uri": "https://localhost:8080/"
        },
        "outputId": "52a45008-2dde-4780-de5b-0b45a0849ebf"
      },
      "execution_count": 16,
      "outputs": [
        {
          "output_type": "stream",
          "name": "stdout",
          "text": [
            "Train Precision: 0.7881\n",
            "Train Recall: 0.7638\n",
            "Train F1-Score: 0.7615\n"
          ]
        }
      ]
    },
    {
      "cell_type": "code",
      "source": [
        "train_loss, train_acc = model.evaluate(X_train, y_train)\n",
        "print(f'Training accuracy: {train_acc:.4f}')"
      ],
      "metadata": {
        "id": "znQFbxLXQIsV",
        "colab": {
          "base_uri": "https://localhost:8080/"
        },
        "outputId": "d445687a-d45b-489d-b348-cc212a122094"
      },
      "execution_count": 17,
      "outputs": [
        {
          "output_type": "stream",
          "name": "stdout",
          "text": [
            "\u001b[1m100/100\u001b[0m \u001b[32m━━━━━━━━━━━━━━━━━━━━\u001b[0m\u001b[37m\u001b[0m \u001b[1m1s\u001b[0m 7ms/step - accuracy: 0.7548 - loss: 1.5019\n",
            "Training accuracy: 0.7638\n"
          ]
        }
      ]
    },
    {
      "cell_type": "code",
      "source": [
        "print(f\"Number of test images loaded: {len(X_test)}\")\n",
        "print(f\"Number of test labels loaded: {len(y_test)}\")"
      ],
      "metadata": {
        "id": "95CUErTXc8l6",
        "colab": {
          "base_uri": "https://localhost:8080/"
        },
        "outputId": "293c13f5-dc26-4274-b88e-306a3d1382eb"
      },
      "execution_count": 18,
      "outputs": [
        {
          "output_type": "stream",
          "name": "stdout",
          "text": [
            "Number of test images loaded: 4000\n",
            "Number of test labels loaded: 4000\n"
          ]
        }
      ]
    },
    {
      "cell_type": "code",
      "source": [
        "#print(train_df.head())"
      ],
      "metadata": {
        "id": "2sVCDQXAdUnO"
      },
      "execution_count": 19,
      "outputs": []
    },
    {
      "cell_type": "code",
      "source": [
        "\n",
        "# debugging\n",
        "print(f\"X_test shape: {X_test.shape}\")  # Should be (num_samples, 224, 224, 3)\n",
        "print(f\"y_test shape: {y_test.shape}\")  # Should be (num_samples,) or one-hot encoded, depending on your label format"
      ],
      "metadata": {
        "id": "06YVYWD1I0SQ",
        "colab": {
          "base_uri": "https://localhost:8080/"
        },
        "outputId": "4e05a020-210d-49ae-e2c1-a1fa93522cdf"
      },
      "execution_count": 20,
      "outputs": [
        {
          "output_type": "stream",
          "name": "stdout",
          "text": [
            "X_test shape: (4000, 224, 224, 3)\n",
            "y_test shape: (4000,)\n"
          ]
        }
      ]
    },
    {
      "cell_type": "code",
      "source": [
        "# debugging - evaluate on a batch\n",
        "\n",
        "#test_loss, test_acc = model.evaluate(X_test[:32], y_test[:32])\n",
        "#print(f'Test accuracy: {test_acc:.4f}')"
      ],
      "metadata": {
        "id": "P02jGcnkJAqq"
      },
      "execution_count": 21,
      "outputs": []
    },
    {
      "cell_type": "code",
      "source": [
        "# Evaluate on test data\n",
        "test_loss, test_acc = model.evaluate(X_test, y_test)\n",
        "print(f'Test accuracy: {test_acc:.4f}')"
      ],
      "metadata": {
        "id": "OOTVl5myIlA1",
        "colab": {
          "base_uri": "https://localhost:8080/"
        },
        "outputId": "39126b28-ba08-40c3-ba5d-95e0286dc344"
      },
      "execution_count": 22,
      "outputs": [
        {
          "output_type": "stream",
          "name": "stdout",
          "text": [
            "\u001b[1m125/125\u001b[0m \u001b[32m━━━━━━━━━━━━━━━━━━━━\u001b[0m\u001b[37m\u001b[0m \u001b[1m1s\u001b[0m 7ms/step - accuracy: 0.0220 - loss: 6.1264\n",
            "Test accuracy: 0.0190\n"
          ]
        }
      ]
    },
    {
      "cell_type": "code",
      "source": [],
      "metadata": {
        "id": "hzRkdxZ5OYwb"
      },
      "execution_count": 22,
      "outputs": []
    },
    {
      "cell_type": "code",
      "source": [
        "# Plotting loss curve\n",
        "\n",
        "plt.plot(history.history['loss'], label='Training Loss')\n",
        "plt.plot(history.history['val_loss'], label='Validation Loss')\n",
        "plt.title('Model Loss Over Epochs')\n",
        "plt.xlabel('Epoch')\n",
        "plt.ylabel('Loss')\n",
        "plt.legend(loc='upper right')\n",
        "plt.grid(True)\n",
        "plt.show()"
      ],
      "metadata": {
        "id": "Aco0HFJiqzP3",
        "colab": {
          "base_uri": "https://localhost:8080/",
          "height": 472
        },
        "outputId": "25989abc-0f17-4fbf-c8b4-94b5e17187f9"
      },
      "execution_count": 23,
      "outputs": [
        {
          "output_type": "display_data",
          "data": {
            "text/plain": [
              "<Figure size 640x480 with 1 Axes>"
            ],
            "image/png": "[encoded data removed]"
          },
          "metadata": {}
        }
      ]
    },
    {
      "cell_type": "code",
      "source": [
        "# classify a given image\n",
        "\n",
        "def classify_image(image_path, model, target_size=(224, 224)):\n",
        "    img = cv2.imread(image_path)\n",
        "    img = resize_and_pad_image(img, target_size)\n",
        "    img = np.expand_dims(img, axis=0)  # Add batch dimension\n",
        "    img = img.astype('float32') / 255.0  # Normalize\n",
        "\n",
        "    prediction = model.predict(img)\n",
        "    predicted_class = np.argmax(prediction, axis=1)  # Get the predicted class index\n",
        "    class_label = label_encoder.inverse_transform(predicted_class)[0]  # Convert index to label\n",
        "    return class_label, prediction\n",
        "\n",
        "# Test the classifier with an image\n",
        "#test_image_path = '/content/drive/MyDrive/cars_test_images - Copy/test_image.jpg'\n",
        "#predicted_class, prediction = classify_image(test_image_path, model)\n",
        "#print(f'Predicted Class: {predicted_class}')"
      ],
      "metadata": {
        "id": "WUv5HMfpEW3u"
      },
      "execution_count": 24,
      "outputs": []
    },
    {
      "cell_type": "code",
      "source": [
        "# TESTING - Evaluate model performance\n",
        "\n",
        "y_pred = model.predict(X_test)\n",
        "y_pred_classes = np.argmax(y_pred, axis=1)\n",
        "\n",
        "precision_testing = precision_score(y_test, y_pred_classes, average='weighted')\n",
        "recall_testing = recall_score(y_test, y_pred_classes, average='weighted')\n",
        "f1_testing = f1_score(y_test, y_pred_classes, average='weighted')\n",
        "\n",
        "print(f'Precision: {precision_testing:.4f}')\n",
        "print(f'Recall: {recall_testing:.4f}')\n",
        "print(f'F1-Score: {f1_testing:.4f}')\n",
        "\n",
        "# Print classification report for more details\n",
        "target_names = [str(label) for label in label_encoder.classes_]\n",
        "print(classification_report(y_test, y_pred_classes, target_names=target_names))\n"
      ],
      "metadata": {
        "id": "BF1fEkIroOee",
        "colab": {
          "base_uri": "https://localhost:8080/"
        },
        "outputId": "7d677f1e-59d3-4fc0-ef38-ad291b05931a"
      },
      "execution_count": 25,
      "outputs": [
        {
          "output_type": "stream",
          "name": "stdout",
          "text": [
            "\u001b[1m125/125\u001b[0m \u001b[32m━━━━━━━━━━━━━━━━━━━━\u001b[0m\u001b[37m\u001b[0m \u001b[1m1s\u001b[0m 6ms/step\n",
            "Precision: 0.0183\n",
            "Recall: 0.0190\n",
            "F1-Score: 0.0161\n",
            "              precision    recall  f1-score   support\n",
            "\n",
            "           1       0.07      0.10      0.08        30\n",
            "           2       0.00      0.00      0.00        18\n",
            "           3       0.00      0.00      0.00        18\n",
            "           4       0.00      0.00      0.00        17\n",
            "           5       0.00      0.00      0.00        22\n",
            "           6       0.03      0.23      0.06        22\n",
            "           7       0.00      0.00      0.00        21\n",
            "           8       0.00      0.00      0.00        23\n",
            "           9       0.00      0.00      0.00        20\n",
            "          10       0.20      0.08      0.11        13\n",
            "          11       0.05      0.04      0.04        23\n",
            "          12       0.00      0.00      0.00        17\n",
            "          13       0.00      0.00      0.00        21\n",
            "          14       0.00      0.00      0.00        25\n",
            "          15       0.00      0.00      0.00        20\n",
            "          16       0.04      0.07      0.05        15\n",
            "          17       0.00      0.00      0.00        15\n",
            "          18       0.00      0.00      0.00        22\n",
            "          19       0.00      0.00      0.00        15\n",
            "          20       0.00      0.00      0.00        23\n",
            "          21       0.00      0.00      0.00        16\n",
            "          22       0.00      0.00      0.00        24\n",
            "          23       0.00      0.00      0.00        21\n",
            "          24       0.00      0.00      0.00        21\n",
            "          25       0.00      0.00      0.00        19\n",
            "          26       0.00      0.00      0.00        20\n",
            "          27       0.00      0.00      0.00        13\n",
            "          28       0.00      0.00      0.00        19\n",
            "          29       0.00      0.00      0.00        22\n",
            "          30       0.00      0.00      0.00        22\n",
            "          31       0.00      0.00      0.00        19\n",
            "          32       0.08      0.04      0.06        23\n",
            "          33       0.00      0.00      0.00        23\n",
            "          34       0.00      0.00      0.00        21\n",
            "          35       0.00      0.00      0.00        22\n",
            "          36       0.02      0.10      0.03        21\n",
            "          37       0.03      0.07      0.04        14\n",
            "          38       0.00      0.00      0.00        18\n",
            "          39       0.00      0.00      0.00        19\n",
            "          40       0.03      0.09      0.04        11\n",
            "          41       0.00      0.00      0.00        13\n",
            "          42       0.06      0.06      0.06        17\n",
            "          43       0.00      0.00      0.00        27\n",
            "          44       0.00      0.00      0.00        18\n",
            "          45       0.00      0.00      0.00        11\n",
            "          46       0.00      0.00      0.00        22\n",
            "          47       0.00      0.00      0.00        13\n",
            "          48       0.00      0.00      0.00        17\n",
            "          49       0.00      0.00      0.00        19\n",
            "          50       0.20      0.12      0.15        17\n",
            "          51       0.00      0.00      0.00        25\n",
            "          52       0.00      0.00      0.00        21\n",
            "          53       0.00      0.00      0.00        18\n",
            "          54       0.00      0.00      0.00        19\n",
            "          55       0.12      0.13      0.12        23\n",
            "          56       0.02      0.04      0.03        23\n",
            "          57       0.00      0.00      0.00        24\n",
            "          58       0.00      0.00      0.00        19\n",
            "          59       0.00      0.00      0.00        23\n",
            "          60       0.17      0.06      0.08        18\n",
            "          61       0.00      0.00      0.00        21\n",
            "          62       0.00      0.00      0.00        18\n",
            "          63       0.00      0.00      0.00        25\n",
            "          64       0.12      0.07      0.09        15\n",
            "          65       0.03      0.04      0.03        28\n",
            "          66       0.00      0.00      0.00        21\n",
            "          67       0.00      0.00      0.00        15\n",
            "          68       0.00      0.00      0.00        23\n",
            "          69       0.02      0.06      0.03        18\n",
            "          70       0.00      0.00      0.00        18\n",
            "          71       0.00      0.00      0.00        18\n",
            "          72       0.00      0.00      0.00        24\n",
            "          73       0.02      0.04      0.02        24\n",
            "          74       0.17      0.08      0.11        26\n",
            "          75       0.00      0.00      0.00        17\n",
            "          76       0.00      0.00      0.00        21\n",
            "          77       0.00      0.00      0.00        20\n",
            "          78       0.00      0.00      0.00        22\n",
            "          79       0.00      0.00      0.00        22\n",
            "          80       0.00      0.00      0.00        18\n",
            "          81       0.00      0.00      0.00        20\n",
            "          82       0.11      0.09      0.10        22\n",
            "          83       0.06      0.05      0.05        22\n",
            "          84       0.00      0.00      0.00        17\n",
            "          85       0.00      0.00      0.00        21\n",
            "          86       0.01      0.05      0.02        21\n",
            "          87       0.06      0.08      0.07        24\n",
            "          88       0.08      0.09      0.09        22\n",
            "          89       0.00      0.00      0.00        23\n",
            "          90       0.00      0.00      0.00        21\n",
            "          91       0.06      0.12      0.08        17\n",
            "          92       0.00      0.00      0.00        23\n",
            "          93       0.00      0.00      0.00        23\n",
            "          94       0.00      0.00      0.00        22\n",
            "          95       0.00      0.00      0.00        23\n",
            "          96       0.00      0.00      0.00        23\n",
            "          97       0.00      0.00      0.00        21\n",
            "          98       0.00      0.00      0.00        25\n",
            "          99       0.33      0.07      0.11        15\n",
            "         100       0.08      0.06      0.07        16\n",
            "         101       0.03      0.07      0.04        14\n",
            "         102       0.07      0.04      0.05        23\n",
            "         103       0.00      0.00      0.00        23\n",
            "         104       0.00      0.00      0.00        15\n",
            "         105       0.00      0.00      0.00        21\n",
            "         106       0.00      0.00      0.00        22\n",
            "         107       0.00      0.00      0.00        25\n",
            "         108       0.00      0.00      0.00        20\n",
            "         109       0.00      0.00      0.00        17\n",
            "         110       0.03      0.04      0.03        24\n",
            "         111       0.04      0.04      0.04        24\n",
            "         112       0.00      0.00      0.00        28\n",
            "         113       0.00      0.00      0.00        20\n",
            "         114       0.02      0.05      0.02        19\n",
            "         115       0.00      0.00      0.00        18\n",
            "         116       0.17      0.04      0.06        25\n",
            "         117       0.00      0.00      0.00        22\n",
            "         118       0.04      0.05      0.04        19\n",
            "         119       0.06      0.19      0.09        27\n",
            "         120       0.00      0.00      0.00        17\n",
            "         121       0.00      0.00      0.00        23\n",
            "         122       0.04      0.05      0.05        19\n",
            "         123       0.03      0.05      0.04        20\n",
            "         124       0.00      0.00      0.00        17\n",
            "         125       0.06      0.04      0.05        23\n",
            "         126       0.00      0.00      0.00        26\n",
            "         127       0.00      0.00      0.00        21\n",
            "         128       0.00      0.00      0.00        20\n",
            "         129       0.00      0.00      0.00        17\n",
            "         130       0.00      0.00      0.00        22\n",
            "         131       0.00      0.00      0.00        28\n",
            "         132       0.00      0.00      0.00        20\n",
            "         133       0.00      0.00      0.00        19\n",
            "         134       0.00      0.00      0.00        18\n",
            "         135       0.12      0.04      0.06        23\n",
            "         136       0.00      0.00      0.00        15\n",
            "         137       0.00      0.00      0.00        24\n",
            "         138       0.00      0.00      0.00        21\n",
            "         139       0.00      0.00      0.00        19\n",
            "         140       0.00      0.00      0.00        18\n",
            "         141       0.00      0.00      0.00        19\n",
            "         142       0.00      0.00      0.00        18\n",
            "         143       0.00      0.00      0.00        23\n",
            "         144       0.00      0.00      0.00        23\n",
            "         145       0.00      0.00      0.00        20\n",
            "         146       0.09      0.14      0.11        21\n",
            "         147       0.00      0.00      0.00        22\n",
            "         148       0.00      0.00      0.00        20\n",
            "         149       0.00      0.00      0.00        23\n",
            "         150       0.00      0.00      0.00        22\n",
            "         151       0.00      0.00      0.00        22\n",
            "         152       0.00      0.00      0.00        17\n",
            "         153       0.00      0.00      0.00        20\n",
            "         154       0.00      0.00      0.00        23\n",
            "         155       0.00      0.00      0.00        19\n",
            "         156       0.00      0.00      0.00        18\n",
            "         157       0.08      0.06      0.07        16\n",
            "         158       0.00      0.00      0.00        10\n",
            "         159       0.00      0.00      0.00        22\n",
            "         160       0.02      0.04      0.03        23\n",
            "         161       0.00      0.00      0.00        28\n",
            "         162       0.03      0.05      0.03        22\n",
            "         163       0.00      0.00      0.00        17\n",
            "         164       0.00      0.00      0.00        21\n",
            "         165       0.00      0.00      0.00        25\n",
            "         166       0.12      0.10      0.11        20\n",
            "         167       0.00      0.00      0.00        26\n",
            "         168       0.00      0.00      0.00        15\n",
            "         169       0.00      0.00      0.00        20\n",
            "         170       0.00      0.00      0.00        25\n",
            "         171       0.00      0.00      0.00        19\n",
            "         172       0.00      0.00      0.00        24\n",
            "         173       0.00      0.00      0.00        21\n",
            "         174       0.00      0.00      0.00        25\n",
            "         175       0.00      0.00      0.00        14\n",
            "         176       0.00      0.00      0.00        12\n",
            "         177       0.00      0.00      0.00        19\n",
            "         178       0.00      0.00      0.00        21\n",
            "         179       0.12      0.17      0.14        24\n",
            "         180       0.00      0.00      0.00        16\n",
            "         181       0.00      0.00      0.00        20\n",
            "         182       0.00      0.00      0.00        29\n",
            "         183       0.00      0.00      0.00        21\n",
            "         184       0.00      0.00      0.00        24\n",
            "         185       0.00      0.00      0.00        20\n",
            "         186       0.05      0.11      0.06        19\n",
            "         187       0.12      0.06      0.08        18\n",
            "         188       0.00      0.00      0.00        20\n",
            "         189       0.00      0.00      0.00        21\n",
            "         190       0.00      0.00      0.00        19\n",
            "         191       0.04      0.08      0.05        26\n",
            "         192       0.00      0.00      0.00        22\n",
            "         193       0.00      0.00      0.00        26\n",
            "         194       0.00      0.00      0.00        16\n",
            "         195       0.00      0.00      0.00        16\n",
            "         196       0.04      0.05      0.04        22\n",
            "\n",
            "    accuracy                           0.02      4000\n",
            "   macro avg       0.02      0.02      0.02      4000\n",
            "weighted avg       0.02      0.02      0.02      4000\n",
            "\n"
          ]
        },
        {
          "output_type": "stream",
          "name": "stderr",
          "text": [
            "/usr/local/lib/python3.10/dist-packages/sklearn/metrics/_classification.py:1531: UndefinedMetricWarning: Precision is ill-defined and being set to 0.0 in labels with no predicted samples. Use `zero_division` parameter to control this behavior.\n",
            "  _warn_prf(average, modifier, f\"{metric.capitalize()} is\", len(result))\n",
            "/usr/local/lib/python3.10/dist-packages/sklearn/metrics/_classification.py:1531: UndefinedMetricWarning: Precision is ill-defined and being set to 0.0 in labels with no predicted samples. Use `zero_division` parameter to control this behavior.\n",
            "  _warn_prf(average, modifier, f\"{metric.capitalize()} is\", len(result))\n",
            "/usr/local/lib/python3.10/dist-packages/sklearn/metrics/_classification.py:1531: UndefinedMetricWarning: Precision is ill-defined and being set to 0.0 in labels with no predicted samples. Use `zero_division` parameter to control this behavior.\n",
            "  _warn_prf(average, modifier, f\"{metric.capitalize()} is\", len(result))\n",
            "/usr/local/lib/python3.10/dist-packages/sklearn/metrics/_classification.py:1531: UndefinedMetricWarning: Precision is ill-defined and being set to 0.0 in labels with no predicted samples. Use `zero_division` parameter to control this behavior.\n",
            "  _warn_prf(average, modifier, f\"{metric.capitalize()} is\", len(result))\n"
          ]
        }
      ]
    },
    {
      "cell_type": "code",
      "source": [
        "import pickle\n",
        "\n",
        "model_filename = \"cnn_car_model.pkl\"\n",
        "with open(model_filename, 'wb') as file:\n",
        "    pickle.dump(model, file)\n",
        "\n",
        "print(f\"Model saved as {model_filename}\")"
      ],
      "metadata": {
        "id": "6ClzG6sdajAX",
        "colab": {
          "base_uri": "https://localhost:8080/"
        },
        "outputId": "fbb26fe6-201d-4008-d1d3-57d4ded8c66e"
      },
      "execution_count": 26,
      "outputs": [
        {
          "output_type": "stream",
          "name": "stdout",
          "text": [
            "Model saved as cnn_car_model.pkl\n"
          ]
        }
      ]
    }
  ]
}